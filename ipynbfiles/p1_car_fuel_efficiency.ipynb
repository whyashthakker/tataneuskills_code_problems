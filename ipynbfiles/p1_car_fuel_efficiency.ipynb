{
  "cells": [
    {
      "cell_type": "markdown",
      "metadata": {},
      "source": [
        "### Importing Libraries\n",
        "\n",
        "To work with data and create visualizations, we will import the following libraries:\n",
        "\n",
        "- **`pandas`**: A powerful library for data manipulation and analysis, providing data structures like DataFrames.\n",
        "- **`numpy`**: A library for numerical operations, useful for working with arrays and performing mathematical computations.\n",
        "- **`matplotlib.pyplot`**: A plotting library for creating a variety of static, animated, and interactive plots.\n"
      ]
    },
    {
      "cell_type": "code",
      "execution_count": null,
      "metadata": {
        "trusted": true
      },
      "outputs": [],
      "source": [
        "import pandas as pd\n",
        "import numpy as np\n",
        "import matplotlib.pyplot as plt"
      ]
    },
    {
      "cell_type": "markdown",
      "metadata": {},
      "source": [
        "### Setting the Random Seed\n",
        "\n",
        "To ensure reproducibility of our results, we set the random seed. This allows us to generate the same random numbers every time we run our code.\n"
      ]
    },
    {
      "cell_type": "code",
      "execution_count": 7,
      "metadata": {
        "trusted": true
      },
      "outputs": [],
      "source": [
        "np.random.seed(42)"
      ]
    },
    {
      "cell_type": "markdown",
      "metadata": {},
      "source": [
        "### Generating Sample Data\n",
        "\n",
        "We will generate sample data for car fuel efficiency. This includes creating random weights for the cars and calculating their fuel efficiency with some added noise."
      ]
    },
    {
      "cell_type": "code",
      "execution_count": 8,
      "metadata": {
        "trusted": true
      },
      "outputs": [],
      "source": [
        "n_samples = 100\n",
        "weights = np.random.randint(1000, 2500, n_samples)  # Weight in kg\n",
        "base_efficiency = 5 + (weights - 1000) * 0.005  # Base L/100km\n",
        "noise = np.random.normal(0, 0.5, n_samples)  # Add some noise\n",
        "efficiency = np.clip(base_efficiency + noise, 4, 15)  # Ensure realistic range"
      ]
    },
    {
      "cell_type": "markdown",
      "metadata": {},
      "source": [
        "### Creating the DataFrame\n",
        "\n",
        "We will create a DataFrame using the generated weights and fuel efficiency data. This DataFrame will include two columns: `weight_kg` and `fuel_efficiency_l_100km`.\n"
      ]
    },
    {
      "cell_type": "code",
      "execution_count": 9,
      "metadata": {
        "trusted": true
      },
      "outputs": [],
      "source": [
        "df = pd.DataFrame({\n",
        "    'weight_kg': weights,\n",
        "    'fuel_efficiency_l_100km': np.round(efficiency, 2)\n",
        "})"
      ]
    },
    {
      "cell_type": "markdown",
      "metadata": {},
      "source": [
        "### Adding Manufacturer and Model Year Columns\n",
        "\n",
        "We will extend our DataFrame by adding two new columns: `manufacturer` and `model_year`. The `manufacturer` column will contain random choices from a set of car manufacturers, and the `model_year` column will include random model years.\n"
      ]
    },
    {
      "cell_type": "code",
      "execution_count": 10,
      "metadata": {
        "trusted": true
      },
      "outputs": [],
      "source": [
        "df['manufacturer'] = np.random.choice(['Tata', 'Mahindra', 'Maruti Suzuki', 'Hyundai', 'Honda'], n_samples)\n",
        "df['model_year'] = np.random.randint(2015, 2024, n_samples)\n"
      ]
    },
    {
      "cell_type": "markdown",
      "metadata": {},
      "source": [
        "### Sorting the DataFrame\n",
        "\n",
        "To organize our data, we'll sort the DataFrame by the `weight_kg` column and reset the index to ensure it is sequential.\n"
      ]
    },
    {
      "cell_type": "code",
      "execution_count": 11,
      "metadata": {
        "trusted": true
      },
      "outputs": [],
      "source": [
        "df = df.sort_values('weight_kg').reset_index(drop=True)\n"
      ]
    },
    {
      "cell_type": "markdown",
      "metadata": {},
      "source": [
        "### Display the first few rows\n",
        "\n",
        "#### output~\n",
        "\n",
        "| weight_kg | fuel_efficiency_l_100km |  manufacturer  | model_year |\n",
        "|-----------|-------------------------|----------------|------------|\n",
        "|    1013   |          4.05            |    Hyundai     |    2021    |\n",
        "|    1020   |          4.00            | Maruti Suzuki  |    2015    |\n",
        "|    1021   |          5.11            |   Mahindra     |    2018    |\n",
        "|    1034   |          4.96            |     Honda      |    2021    |\n",
        "|    1087   |          6.02            | Maruti Suzuki  |    2016    |\n"
      ]
    },
    {
      "cell_type": "code",
      "execution_count": 12,
      "metadata": {
        "trusted": true
      },
      "outputs": [
        {
          "name": "stdout",
          "output_type": "stream",
          "text": [
            "   weight_kg  fuel_efficiency_l_100km   manufacturer  model_year\n",
            "0       1013                     4.05        Hyundai        2021\n",
            "1       1020                     4.00  Maruti Suzuki        2015\n",
            "2       1021                     5.11       Mahindra        2018\n",
            "3       1034                     4.96          Honda        2021\n",
            "4       1087                     6.02  Maruti Suzuki        2016\n"
          ]
        }
      ],
      "source": [
        "\n",
        "print(df.head())"
      ]
    },
    {
      "cell_type": "markdown",
      "metadata": {},
      "source": [
        "### Save to CSV\n",
        "#### output~\n",
        "Dataset saved to 'car_fuel_efficiency_data.csv'"
      ]
    },
    {
      "cell_type": "code",
      "execution_count": 13,
      "metadata": {
        "trusted": true
      },
      "outputs": [
        {
          "name": "stdout",
          "output_type": "stream",
          "text": [
            "\n",
            "Dataset saved to 'car_fuel_efficiency_data.csv'\n"
          ]
        }
      ],
      "source": [
        "\n",
        "df.to_csv('car_fuel_efficiency_data.csv', index=False)\n",
        "print(\"\\nDataset saved to 'car_fuel_efficiency_data.csv'\")"
      ]
    },
    {
      "cell_type": "markdown",
      "metadata": {},
      "source": [
        "### CarFuelEfficiencyPredictor Class\n",
        "\n",
        "The `CarFuelEfficiencyPredictor` class implements a simple linear regression model to predict fuel efficiency based on car weight. It includes methods for training the model, making predictions, and evaluating its performance.\n",
        "\n",
        "#### Methods:\n",
        "\n",
        "- **`__init__`**: Initializes the predictor with default slope and intercept values.\n",
        "  \n",
        "- **`train(X, y)`**: Trains the model using simple linear regression. It calculates the slope and intercept based on the provided data, where `X` represents car weights and `y` represents fuel efficiency values.\n",
        "\n",
        "- **`predict(X)`**: Predicts fuel efficiency (L/100km) for given car weights. It uses the trained model to provide predictions.\n",
        "\n",
        "- **`mean_squared_error(X, y)`**: Calculates the mean squared error (MSE) of the model. MSE is a measure of the average squared difference between the predicted and actual values.\n",
        "\n",
        "- **`r_squared(X, y)`**: Calculates the R-squared score of the model. The R-squared score indicates how well the model explains the variability of the response variable compared to the mean.\n",
        "\n",
        "This class is designed to provide basic functionality for linear regression analysis, allowing you to understand and predict car fuel efficiency based on weight.\n"
      ]
    },
    {
      "cell_type": "code",
      "execution_count": 14,
      "metadata": {
        "trusted": true
      },
      "outputs": [],
      "source": [
        "\n",
        "class CarFuelEfficiencyPredictor:\n",
        "    def __init__(self):\n",
        "        self.slope = 0\n",
        "        self.intercept = 0\n",
        "     \n",
        "    def train(self, X, y):\n",
        "        \"\"\"Train the model using simple linear regression.\"\"\"\n",
        "        X_mean = np.mean(X)\n",
        "        y_mean = np.mean(y)\n",
        "     \n",
        "        numerator = np.sum((X - X_mean) * (y - y_mean))\n",
        "        denominator = np.sum((X - X_mean)**2)\n",
        "     \n",
        "        self.slope = numerator / denominator\n",
        "        self.intercept = y_mean - self.slope * X_mean\n",
        "     \n",
        "    def predict(self, X):\n",
        "        \"\"\"Predict L/100km for given car weights.\"\"\"\n",
        "        return self.slope * X + self.intercept\n",
        "     \n",
        "    def mean_squared_error(self, X, y):\n",
        "        \"\"\"Calculate the mean squared error of the model.\"\"\"\n",
        "        predictions = self.predict(X)\n",
        "        return np.mean((y - predictions)**2)\n",
        "     \n",
        "    def r_squared(self, X, y):\n",
        "        \"\"\"Calculate the R-squared score of the model.\"\"\"\n",
        "        predictions = self.predict(X)\n",
        "        ss_total = np.sum((y - np.mean(y))**2)\n",
        "        ss_residual = np.sum((y - predictions)**2)\n",
        "        return 1 - (ss_residual / ss_total)\n"
      ]
    },
    {
      "cell_type": "markdown",
      "metadata": {},
      "source": [
        "### Load the dataset"
      ]
    },
    {
      "cell_type": "code",
      "execution_count": 15,
      "metadata": {
        "trusted": true
      },
      "outputs": [],
      "source": [
        "df = pd.read_csv('car_fuel_efficiency_data.csv')"
      ]
    },
    {
      "cell_type": "markdown",
      "metadata": {},
      "source": [
        "### Extracting Features and Target Variables\n",
        "\n",
        "We will extract the features and target variables from our DataFrame. Here, `X` will be the car weights, and `y` will be the fuel efficiency values.\n"
      ]
    },
    {
      "cell_type": "code",
      "execution_count": 16,
      "metadata": {
        "trusted": true
      },
      "outputs": [],
      "source": [
        "\n",
        "X = df['weight_kg'].values\n",
        "y = df['fuel_efficiency_l_100km'].values\n"
      ]
    },
    {
      "cell_type": "markdown",
      "metadata": {},
      "source": [
        "### Create and train the model"
      ]
    },
    {
      "cell_type": "code",
      "execution_count": 17,
      "metadata": {
        "trusted": true
      },
      "outputs": [],
      "source": [
        "\n",
        "model = CarFuelEfficiencyPredictor()\n",
        "model.train(X, y)"
      ]
    },
    {
      "cell_type": "markdown",
      "metadata": {},
      "source": [
        "### Make predictions for new car weights\n",
        "\n",
        "output~\n",
        "**Predictions for New Car Weights:**\n",
        "\n",
        "- **Car weight:** 1350 kg **Predicted Fuel Efficiency:** 6.73 L/100km\n",
        "\n",
        "- **Car weight:** 1650 kg **Predicted Fuel Efficiency:** 8.26 L/100km\n",
        "\n",
        "- **Car weight:** 1950 kg **Predicted Fuel Efficiency:** 9.79 L/100km\n",
        "\n"
      ]
    },
    {
      "cell_type": "code",
      "execution_count": 18,
      "metadata": {
        "trusted": true
      },
      "outputs": [
        {
          "name": "stdout",
          "output_type": "stream",
          "text": [
            "Predictions for new car weights:\n",
            "Car weight: 1350 kg, Predicted Fuel Efficiency: 6.73 L/100km\n",
            "Car weight: 1650 kg, Predicted Fuel Efficiency: 8.26 L/100km\n",
            "Car weight: 1950 kg, Predicted Fuel Efficiency: 9.79 L/100km\n"
          ]
        }
      ],
      "source": [
        "\n",
        "new_car_weights = np.array([1350, 1650, 1950])\n",
        "predictions = model.predict(new_car_weights)\n",
        "\n",
        "print(\"Predictions for new car weights:\")\n",
        "for weight, efficiency in zip(new_car_weights, predictions):\n",
        "    print(f\"Car weight: {weight} kg, Predicted Fuel Efficiency: {efficiency:.2f} L/100km\")\n"
      ]
    },
    {
      "cell_type": "markdown",
      "metadata": {},
      "source": [
        "### Calculate and print error metrics\n",
        "output~\n",
        "\n",
        "**Mean Squared Error:** 0.2044  \n",
        "**R-squared Score:** 0.9610\n"
      ]
    },
    {
      "cell_type": "code",
      "execution_count": 19,
      "metadata": {
        "trusted": true
      },
      "outputs": [
        {
          "name": "stdout",
          "output_type": "stream",
          "text": [
            "\n",
            "Mean Squared Error: 0.2044\n",
            "R-squared Score: 0.9610\n"
          ]
        }
      ],
      "source": [
        "\n",
        "mse = model.mean_squared_error(X, y)\n",
        "r2 = model.r_squared(X, y)\n",
        "print(f\"\\nMean Squared Error: {mse:.4f}\")\n",
        "print(f\"R-squared Score: {r2:.4f}\")\n"
      ]
    },
    {
      "cell_type": "markdown",
      "metadata": {},
      "source": [
        "### Visualize the data and predictions\n",
        "To visualize the model's performance, we'll create a scatter plot of the actual data and a line plot of the predicted values. Additionally, we'll plot new predictions with different car weights.\n"
      ]
    },
    {
      "cell_type": "code",
      "execution_count": 20,
      "metadata": {
        "trusted": true
      },
      "outputs": [
        {
          "data": {
            "image/png": "[encoded data removed]",
            "text/plain": [
              "<Figure size 640x480 with 1 Axes>"
            ]
          },
          "metadata": {},
          "output_type": "display_data"
        }
      ],
      "source": [
        "\n",
        "\n",
        "\n",
        "plt.scatter(X, y, color='blue', alpha=0.5, label='Actual Data')\n",
        "plt.plot(X, model.predict(X), color='red', label='Prediction Line')\n",
        "plt.scatter(new_car_weights, predictions, color='green', marker='x', s=100, label='New Predictions')\n",
        "plt.xlabel('Car Weight (kg)')\n",
        "plt.ylabel('Fuel Efficiency (L/100km)')\n",
        "plt.title('Car Fuel Efficiency Prediction')\n",
        "plt.legend()\n",
        "plt.show()\n"
      ]
    }
  ],
  "metadata": {
    "kernelspec": {
      "display_name": "Python (Pyodide)",
      "language": "python",
      "name": "python"
    },
    "language_info": {
      "codemirror_mode": {
        "name": "python",
        "version": 3
      },
      "file_extension": ".py",
      "mimetype": "text/x-python",
      "name": "python",
      "nbconvert_exporter": "python",
      "pygments_lexer": "ipython3",
      "version": "3.8"
    }
  },
  "nbformat": 4,
  "nbformat_minor": 4
}
