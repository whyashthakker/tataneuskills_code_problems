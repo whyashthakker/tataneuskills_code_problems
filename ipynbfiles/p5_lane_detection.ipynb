{
  "cells": [
    {
      "cell_type": "markdown",
      "metadata": {},
      "source": [
        "### Importing Libraries\n",
        "\n",
        "To work with data and create visualizations, we will import the following libraries:\n",
        "\n",
        "- **`pandas`**: A powerful library for data manipulation and analysis, providing data structures like DataFrames.\n",
        "- **`numpy`**: A library for numerical operations, useful for working with arrays and performing mathematical computations.\n",
        "- **`matplotlib.pyplot`**: A plotting library for creating a variety of static, animated, and interactive plots.\n"
      ]
    },
    {
      "cell_type": "code",
      "execution_count": 18,
      "metadata": {
        "trusted": true
      },
      "outputs": [],
      "source": [
        "import cv2\n",
        "import numpy as np\n",
        "import matplotlib.pyplot as plt\n"
      ]
    },
    {
      "cell_type": "markdown",
      "metadata": {},
      "source": [
        "### Generating a Road Image\n",
        "\n",
        "The `generate_road_image` function creates a synthetic image of a road with simple lane markings.\n",
        "\n",
        "#### Parameters:\n",
        "\n",
        "- **`width`**: Width of the image in pixels (default is 640).\n",
        "- **`height`**: Height of the image in pixels (default is 480).\n",
        "\n",
        "#### Functionality:\n",
        "\n",
        "- **Create Image**: Generates a grey image of the specified size.\n",
        "- **Draw Lane Markings**: Adds two white lines to simulate lane markings.\n",
        "\n",
        "Returns the generated image for use in simulations or testing.\n"
      ]
    },
    {
      "cell_type": "code",
      "execution_count": 19,
      "metadata": {
        "trusted": true
      },
      "outputs": [],
      "source": [
        "\n",
        "def generate_road_image(width=640, height=480):\n",
        "    image = np.zeros((height, width, 3), dtype=np.uint8)\n",
        "    image.fill(100)\n",
        "    cv2.line(image, (width//4, height), (width//3, height//2), (255, 255, 255), 5)\n",
        "    cv2.line(image, (3*width//4, height), (2*width//3, height//2), (255, 255, 255), 5)\n",
        "    return image\n"
      ]
    },
    {
      "cell_type": "markdown",
      "metadata": {},
      "source": [
        "### Preprocessing an Image\n",
        "\n",
        "The `preprocess_image` function prepares an image for further processing by converting it to grayscale and applying Gaussian blur.\n",
        "\n",
        "#### Parameters:\n",
        "\n",
        "- **`image`**: The input image in RGB format.\n",
        "\n",
        "#### Functionality:\n",
        "\n",
        "1. **Convert to Grayscale**: Transforms the image from RGB to grayscale.\n",
        "2. **Apply Gaussian Blur**: Reduces noise and detail with a Gaussian blur.\n",
        "\n",
        "Returns the processed image ready for additional analysis or processing.\n"
      ]
    },
    {
      "cell_type": "code",
      "execution_count": 20,
      "metadata": {
        "trusted": true
      },
      "outputs": [],
      "source": [
        "\n",
        "def preprocess_image(image):\n",
        "    gray = cv2.cvtColor(image, cv2.COLOR_RGB2GRAY)\n",
        "    blur = cv2.GaussianBlur(gray, (5, 5), 0)\n",
        "    return blur\n"
      ]
    },
    {
      "cell_type": "markdown",
      "metadata": {},
      "source": [
        "### Detecting Edges in an Image\n",
        "\n",
        "The `detect_edges` function applies edge detection to an image using the Canny algorithm.\n",
        "\n",
        "#### Parameters:\n",
        "\n",
        "- **`image`**: The input image, typically preprocessed to grayscale and blurred.\n",
        "\n",
        "#### Functionality:\n",
        "\n",
        "- **Apply Canny Edge Detection**: Detects edges in the image using specified thresholds.\n",
        "\n",
        "Returns an image highlighting the detected edges.\n"
      ]
    },
    {
      "cell_type": "code",
      "execution_count": 21,
      "metadata": {
        "trusted": true
      },
      "outputs": [],
      "source": [
        "def detect_edges(image):\n",
        "    return cv2.Canny(image, 50, 150)"
      ]
    },
    {
      "cell_type": "markdown",
      "metadata": {},
      "source": [
        "### Defining a Region of Interest\n",
        "\n",
        "The `region_of_interest` function isolates a triangular region in an image for further analysis.\n",
        "\n",
        "#### Parameters:\n",
        "\n",
        "- **`image`**: The input image from which the region of interest will be extracted.\n",
        "\n",
        "#### Functionality:\n",
        "\n",
        "1. **Define Polygon**: Creates a triangular mask covering the bottom half of the image.\n",
        "2. **Create Mask**: Fills the polygon with white on a black background.\n",
        "3. **Apply Mask**: Applies the mask to the image to retain only the region of interest.\n",
        "\n",
        "Returns the image with only the specified region visible.\n"
      ]
    },
    {
      "cell_type": "code",
      "execution_count": 22,
      "metadata": {
        "trusted": true
      },
      "outputs": [],
      "source": [
        "def region_of_interest(image):\n",
        "    height, width = image.shape\n",
        "    polygon = np.array([[(0, height), (width, height), (width//2, height//2)]])\n",
        "    mask = np.zeros_like(image)\n",
        "    cv2.fillPoly(mask, polygon, 255)\n",
        "    return cv2.bitwise_and(image, mask)"
      ]
    },
    {
      "cell_type": "markdown",
      "metadata": {},
      "source": [
        "### Detecting Lines in an Image\n",
        "\n",
        "The `detect_lines` function identifies straight lines in an image using the Hough Line Transform. It processes edge-detected images to find and return line segments. \n"
      ]
    },
    {
      "cell_type": "code",
      "execution_count": 23,
      "metadata": {
        "trusted": true
      },
      "outputs": [],
      "source": [
        "def detect_lines(image):\n",
        "    return cv2.HoughLinesP(image, 1, np.pi/180, 50, minLineLength=50, maxLineGap=100)"
      ]
    },
    {
      "cell_type": "markdown",
      "metadata": {},
      "source": [
        "### Averaging Slope and Intercept of Lines\n",
        "\n",
        "The `average_slope_intercept` function calculates the average slope and intercept for detected left and right lines.\n",
        "\n",
        "#### Functionality:\n",
        "\n",
        "- **Classify Lines**: Separates lines into left and right based on their slope.\n",
        "- **Compute Averages**: Calculates the average slope and intercept for each side.\n",
        "\n",
        "Returns the average slope and intercept for left and right lines.\n"
      ]
    },
    {
      "cell_type": "code",
      "execution_count": 24,
      "metadata": {
        "trusted": true
      },
      "outputs": [],
      "source": [
        "\n",
        "def average_slope_intercept(lines):\n",
        "    left_lines, right_lines = [], []\n",
        "    for line in lines:\n",
        "        x1, y1, x2, y2 = line[0]\n",
        "        if x2 == x1:\n",
        "            continue\n",
        "        slope = (y2 - y1) / (x2 - x1)\n",
        "        intercept = y1 - slope * x1\n",
        "        (left_lines if slope < 0 else right_lines).append((slope, intercept))\n",
        "    \n",
        "    left_avg = np.average(left_lines, axis=0) if left_lines else None\n",
        "    right_avg = np.average(right_lines, axis=0) if right_lines else None\n",
        "    return left_avg, right_avg\n"
      ]
    },
    {
      "cell_type": "markdown",
      "metadata": {},
      "source": [
        "### Creating Lane Lines on an Image\n",
        "\n",
        "The `create_lane_lines` function draws lane lines on an image based on the average slopes and intercepts of detected lines.\n",
        "\n",
        "#### Functionality:\n",
        "\n",
        "- **Compute Line Endpoints**: Uses the average slope and intercept to calculate line endpoints.\n",
        "- **Draw Lines**: Draws the left and right lane lines on the image.\n",
        "\n",
        "Modifies the input image to include visual lane lines.\n"
      ]
    },
    {
      "cell_type": "code",
      "execution_count": 25,
      "metadata": {
        "trusted": true
      },
      "outputs": [],
      "source": [
        "\n",
        "def create_lane_lines(image, lines):\n",
        "    left_avg, right_avg = average_slope_intercept(lines)\n",
        "    y1, y2 = image.shape[0], int(image.shape[0] * 0.6)\n",
        "\n",
        "    if left_avg is not None:\n",
        "        left_x1 = int((y1 - left_avg[1]) / left_avg[0])\n",
        "        left_x2 = int((y2 - left_avg[1]) / left_avg[0])\n",
        "        cv2.line(image, (left_x1, y1), (left_x2, y2), (255, 0, 0), 5)\n",
        "\n",
        "    if right_avg is not None:\n",
        "        right_x1 = int((y1 - right_avg[1]) / right_avg[0])\n",
        "        right_x2 = int((y2 - right_avg[1]) / right_avg[0])\n",
        "        cv2.line(image, (right_x1, y1), (right_x2, y2), (255, 0, 0), 5)\n"
      ]
    },
    {
      "cell_type": "markdown",
      "metadata": {},
      "source": [
        "### Lane Detection\n",
        "\n",
        "The `lane_detection` function detects and highlights lane lines in an image.\n",
        "\n",
        "#### Functionality:\n",
        "\n",
        "1. **Preprocess Image**: Converts to grayscale and applies blur.\n",
        "2. **Detect Edges**: Finds edges using the Canny edge detector.\n",
        "3. **Define Region of Interest**: Focuses on a specific area of the image.\n",
        "4. **Detect Lines**: Identifies lines in the region of interest.\n",
        "5. **Draw Lane Lines**: Creates and overlays lane lines on the original image.\n",
        "\n",
        "Returns the image with detected lane lines highlighted.\n"
      ]
    },
    {
      "cell_type": "code",
      "execution_count": 26,
      "metadata": {
        "trusted": true
      },
      "outputs": [],
      "source": [
        "\n",
        "def lane_detection(image):\n",
        "    preprocessed = preprocess_image(image)\n",
        "    edges = detect_edges(preprocessed)\n",
        "    roi = region_of_interest(edges)\n",
        "    lines = detect_lines(roi)\n",
        "    \n",
        "    if lines is not None:\n",
        "        lane_image = np.zeros_like(image)\n",
        "        create_lane_lines(lane_image, lines)\n",
        "        return cv2.addWeighted(image, 0.8, lane_image, 1, 1)\n",
        "    else:\n",
        "        return image\n"
      ]
    },
    {
      "cell_type": "markdown",
      "metadata": {},
      "source": [
        "### Lane Detection Visualizer\n",
        "\n",
        "The `LaneDetectionVisualizer` class provides a step-by-step visualization of the lane detection process.\n",
        "\n",
        "#### Functionality:\n",
        "\n",
        "1. **Initialize Images**: Generates a road image and sets up visualization steps.\n",
        "2. **Visualization Steps**: Defines a sequence of processing stages:\n",
        "   - **Original Image**\n",
        "   - **Grayscale**\n",
        "   - **Edge Detection**\n",
        "   - **Region of Interest**\n",
        "   - **Lane Detection**\n",
        "3. **Display**: Uses Matplotlib to display each processing step in a series of subplots.\n",
        "\n",
        "Provides a visual overview of how lane detection transforms the image through each stage.\n"
      ]
    },
    {
      "cell_type": "code",
      "execution_count": 27,
      "metadata": {
        "trusted": true
      },
      "outputs": [],
      "source": [
        "\n",
        "class LaneDetectionVisualizer:\n",
        "    def __init__(self):\n",
        "        self.road_image = generate_road_image()\n",
        "        self.steps = [\n",
        "            (\"Original Image\", lambda: self.road_image),\n",
        "            (\"Grayscale\", lambda: cv2.cvtColor(preprocess_image(self.road_image), cv2.COLOR_GRAY2RGB)),\n",
        "            (\"Edge Detection\", lambda: cv2.cvtColor(detect_edges(preprocess_image(self.road_image)), cv2.COLOR_GRAY2RGB)),\n",
        "            (\"Region of Interest\", lambda: cv2.cvtColor(region_of_interest(detect_edges(preprocess_image(self.road_image))), cv2.COLOR_GRAY2RGB)),\n",
        "            (\"Lane Detection\", lambda: lane_detection(self.road_image))\n",
        "        ]\n",
        "        \n",
        "        self.fig, self.axes = plt.subplots(nrows=1, ncols=len(self.steps), figsize=(20, 6))\n",
        "        self.fig.subplots_adjust(hspace=0.5, wspace=0.5)\n",
        "        \n",
        "        for ax, (step_name, step_func) in zip(self.axes, self.steps):\n",
        "            ax.imshow(step_func())\n",
        "            ax.set_title(step_name)\n",
        "            ax.axis('off')\n"
      ]
    },
    {
      "cell_type": "markdown",
      "metadata": {},
      "source": [
        "### Create and Show Lane Detection Visualizer\n",
        "\n",
        "The following code initializes the `LaneDetectionVisualizer` and displays the visualizations of each processing step.\n"
      ]
    },
    {
      "cell_type": "code",
      "execution_count": 28,
      "metadata": {
        "trusted": true
      },
      "outputs": [
        {
          "data": {
            "image/png": "[encoded data removed]",
            "text/plain": [
              "<Figure size 2000x600 with 5 Axes>"
            ]
          },
          "metadata": {},
          "output_type": "display_data"
        }
      ],
      "source": [
        "\n",
        "# Create and show the visualizer\n",
        "visualizer = LaneDetectionVisualizer()\n",
        "plt.show()"
      ]
    }
  ],
  "metadata": {
    "kernelspec": {
      "display_name": "Python (Pyodide)",
      "language": "python",
      "name": "python"
    },
    "language_info": {
      "codemirror_mode": {
        "name": "python",
        "version": 3
      },
      "file_extension": ".py",
      "mimetype": "text/x-python",
      "name": "python",
      "nbconvert_exporter": "python",
      "pygments_lexer": "ipython3",
      "version": "3.8"
    }
  },
  "nbformat": 4,
  "nbformat_minor": 4
}
